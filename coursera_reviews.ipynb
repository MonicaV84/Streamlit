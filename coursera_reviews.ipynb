{
 "cells": [
  {
   "cell_type": "code",
   "execution_count": 1,
   "metadata": {},
   "outputs": [],
   "source": [
    "from wordcloud import WordCloud, STOPWORDS\n",
    "import pandas as pd\n",
    "import numpy as np\n",
    "import matplotlib.pyplot as plt\n",
    "import seaborn as sns\n",
    "from nltk.tokenize import RegexpTokenizer\n",
    "import nltk\n",
    "from nltk.corpus import stopwords\n",
    "from nltk.probability import FreqDist\n",
    "from nltk.stem import WordNetLemmatizer\n",
    "from nltk.tokenize import word_tokenize\n",
    "from nltk.sentiment import SentimentIntensityAnalyzer"
   ]
  },
  {
   "cell_type": "code",
   "execution_count": 2,
   "metadata": {},
   "outputs": [],
   "source": [
    "coursera_r_orig = pd.read_csv('Coursera_reviews.csv')"
   ]
  },
  {
   "cell_type": "code",
   "execution_count": 3,
   "metadata": {},
   "outputs": [
    {
     "data": {
      "text/html": [
       "<div>\n",
       "<style scoped>\n",
       "    .dataframe tbody tr th:only-of-type {\n",
       "        vertical-align: middle;\n",
       "    }\n",
       "\n",
       "    .dataframe tbody tr th {\n",
       "        vertical-align: top;\n",
       "    }\n",
       "\n",
       "    .dataframe thead th {\n",
       "        text-align: right;\n",
       "    }\n",
       "</style>\n",
       "<table border=\"1\" class=\"dataframe\">\n",
       "  <thead>\n",
       "    <tr style=\"text-align: right;\">\n",
       "      <th></th>\n",
       "      <th>reviews</th>\n",
       "      <th>reviewers</th>\n",
       "      <th>date_reviews</th>\n",
       "      <th>rating</th>\n",
       "      <th>course_id</th>\n",
       "    </tr>\n",
       "  </thead>\n",
       "  <tbody>\n",
       "    <tr>\n",
       "      <th>0</th>\n",
       "      <td>Pretty dry, but I was able to pass with just t...</td>\n",
       "      <td>By Robert S</td>\n",
       "      <td>Feb 12, 2020</td>\n",
       "      <td>4</td>\n",
       "      <td>google-cbrs-cpi-training</td>\n",
       "    </tr>\n",
       "    <tr>\n",
       "      <th>1</th>\n",
       "      <td>would be a better experience if the video and ...</td>\n",
       "      <td>By Gabriel E R</td>\n",
       "      <td>Sep 28, 2020</td>\n",
       "      <td>4</td>\n",
       "      <td>google-cbrs-cpi-training</td>\n",
       "    </tr>\n",
       "    <tr>\n",
       "      <th>2</th>\n",
       "      <td>Information was perfect! The program itself wa...</td>\n",
       "      <td>By Jacob D</td>\n",
       "      <td>Apr 08, 2020</td>\n",
       "      <td>4</td>\n",
       "      <td>google-cbrs-cpi-training</td>\n",
       "    </tr>\n",
       "    <tr>\n",
       "      <th>3</th>\n",
       "      <td>A few grammatical mistakes on test made me do ...</td>\n",
       "      <td>By Dale B</td>\n",
       "      <td>Feb 24, 2020</td>\n",
       "      <td>4</td>\n",
       "      <td>google-cbrs-cpi-training</td>\n",
       "    </tr>\n",
       "    <tr>\n",
       "      <th>4</th>\n",
       "      <td>Excellent course and the training provided was...</td>\n",
       "      <td>By Sean G</td>\n",
       "      <td>Jun 18, 2020</td>\n",
       "      <td>4</td>\n",
       "      <td>google-cbrs-cpi-training</td>\n",
       "    </tr>\n",
       "  </tbody>\n",
       "</table>\n",
       "</div>"
      ],
      "text/plain": [
       "                                             reviews       reviewers  \\\n",
       "0  Pretty dry, but I was able to pass with just t...     By Robert S   \n",
       "1  would be a better experience if the video and ...  By Gabriel E R   \n",
       "2  Information was perfect! The program itself wa...      By Jacob D   \n",
       "3  A few grammatical mistakes on test made me do ...       By Dale B   \n",
       "4  Excellent course and the training provided was...       By Sean G   \n",
       "\n",
       "   date_reviews  rating                 course_id  \n",
       "0  Feb 12, 2020       4  google-cbrs-cpi-training  \n",
       "1  Sep 28, 2020       4  google-cbrs-cpi-training  \n",
       "2  Apr 08, 2020       4  google-cbrs-cpi-training  \n",
       "3  Feb 24, 2020       4  google-cbrs-cpi-training  \n",
       "4  Jun 18, 2020       4  google-cbrs-cpi-training  "
      ]
     },
     "execution_count": 3,
     "metadata": {},
     "output_type": "execute_result"
    }
   ],
   "source": [
    "coursera_r_orig.head()"
   ]
  },
  {
   "cell_type": "code",
   "execution_count": 4,
   "metadata": {},
   "outputs": [
    {
     "name": "stdout",
     "output_type": "stream",
     "text": [
      "<class 'pandas.core.frame.DataFrame'>\n",
      "RangeIndex: 1454711 entries, 0 to 1454710\n",
      "Data columns (total 5 columns):\n",
      " #   Column        Non-Null Count    Dtype \n",
      "---  ------        --------------    ----- \n",
      " 0   reviews       1454571 non-null  object\n",
      " 1   reviewers     1454711 non-null  object\n",
      " 2   date_reviews  1454711 non-null  object\n",
      " 3   rating        1454711 non-null  int64 \n",
      " 4   course_id     1454711 non-null  object\n",
      "dtypes: int64(1), object(4)\n",
      "memory usage: 55.5+ MB\n"
     ]
    }
   ],
   "source": [
    "coursera_r_orig.info()"
   ]
  },
  {
   "attachments": {},
   "cell_type": "markdown",
   "metadata": {},
   "source": [
    "El archivo tiene una gran cantidad de duplicados, que se dropean"
   ]
  },
  {
   "cell_type": "code",
   "execution_count": 5,
   "metadata": {},
   "outputs": [
    {
     "data": {
      "text/plain": [
       "996433"
      ]
     },
     "execution_count": 5,
     "metadata": {},
     "output_type": "execute_result"
    }
   ],
   "source": [
    "coursera_r_orig.reviews.duplicated().sum()"
   ]
  },
  {
   "cell_type": "code",
   "execution_count": 6,
   "metadata": {},
   "outputs": [],
   "source": [
    "coursera_r_orig = coursera_r_orig.drop_duplicates()"
   ]
  },
  {
   "cell_type": "code",
   "execution_count": 7,
   "metadata": {},
   "outputs": [
    {
     "name": "stdout",
     "output_type": "stream",
     "text": [
      "<class 'pandas.core.frame.DataFrame'>\n",
      "Int64Index: 519947 entries, 0 to 1454644\n",
      "Data columns (total 5 columns):\n",
      " #   Column        Non-Null Count   Dtype \n",
      "---  ------        --------------   ----- \n",
      " 0   reviews       519891 non-null  object\n",
      " 1   reviewers     519947 non-null  object\n",
      " 2   date_reviews  519947 non-null  object\n",
      " 3   rating        519947 non-null  int64 \n",
      " 4   course_id     519947 non-null  object\n",
      "dtypes: int64(1), object(4)\n",
      "memory usage: 23.8+ MB\n"
     ]
    }
   ],
   "source": [
    "coursera_r_orig.info()"
   ]
  },
  {
   "attachments": {},
   "cell_type": "markdown",
   "metadata": {},
   "source": [
    "Reemplazo las comas por espacios para que no lo tome como decimal"
   ]
  },
  {
   "cell_type": "code",
   "execution_count": 8,
   "metadata": {},
   "outputs": [],
   "source": [
    "coursera_r_orig['date_reviews'] = coursera_r_orig['date_reviews'].str.replace(',','')"
   ]
  },
  {
   "attachments": {},
   "cell_type": "markdown",
   "metadata": {},
   "source": [
    "Se lo pasa a formato de fecha"
   ]
  },
  {
   "cell_type": "code",
   "execution_count": 9,
   "metadata": {},
   "outputs": [],
   "source": [
    "coursera_r_orig['date_reviews'] = pd.to_datetime(coursera_r_orig['date_reviews'])"
   ]
  },
  {
   "attachments": {},
   "cell_type": "markdown",
   "metadata": {},
   "source": [
    "Se crea una columna con los años de las fechas para facilitar el análisis"
   ]
  },
  {
   "cell_type": "code",
   "execution_count": 10,
   "metadata": {},
   "outputs": [],
   "source": [
    "coursera_r_orig['year'] = pd.DatetimeIndex(coursera_r_orig['date_reviews']).year"
   ]
  },
  {
   "cell_type": "code",
   "execution_count": 11,
   "metadata": {},
   "outputs": [
    {
     "name": "stdout",
     "output_type": "stream",
     "text": [
      "<class 'pandas.core.frame.DataFrame'>\n",
      "Int64Index: 519947 entries, 0 to 1454644\n",
      "Data columns (total 6 columns):\n",
      " #   Column        Non-Null Count   Dtype         \n",
      "---  ------        --------------   -----         \n",
      " 0   reviews       519891 non-null  object        \n",
      " 1   reviewers     519947 non-null  object        \n",
      " 2   date_reviews  519947 non-null  datetime64[ns]\n",
      " 3   rating        519947 non-null  int64         \n",
      " 4   course_id     519947 non-null  object        \n",
      " 5   year          519947 non-null  int64         \n",
      "dtypes: datetime64[ns](1), int64(2), object(3)\n",
      "memory usage: 27.8+ MB\n"
     ]
    }
   ],
   "source": [
    "coursera_r_orig.info()"
   ]
  },
  {
   "cell_type": "code",
   "execution_count": 12,
   "metadata": {},
   "outputs": [
    {
     "data": {
      "text/html": [
       "<div>\n",
       "<style scoped>\n",
       "    .dataframe tbody tr th:only-of-type {\n",
       "        vertical-align: middle;\n",
       "    }\n",
       "\n",
       "    .dataframe tbody tr th {\n",
       "        vertical-align: top;\n",
       "    }\n",
       "\n",
       "    .dataframe thead th {\n",
       "        text-align: right;\n",
       "    }\n",
       "</style>\n",
       "<table border=\"1\" class=\"dataframe\">\n",
       "  <thead>\n",
       "    <tr style=\"text-align: right;\">\n",
       "      <th></th>\n",
       "      <th>reviews</th>\n",
       "      <th>reviewers</th>\n",
       "      <th>date_reviews</th>\n",
       "      <th>rating</th>\n",
       "      <th>course_id</th>\n",
       "      <th>year</th>\n",
       "    </tr>\n",
       "  </thead>\n",
       "  <tbody>\n",
       "    <tr>\n",
       "      <th>0</th>\n",
       "      <td>Pretty dry, but I was able to pass with just t...</td>\n",
       "      <td>By Robert S</td>\n",
       "      <td>2020-02-12</td>\n",
       "      <td>4</td>\n",
       "      <td>google-cbrs-cpi-training</td>\n",
       "      <td>2020</td>\n",
       "    </tr>\n",
       "    <tr>\n",
       "      <th>1</th>\n",
       "      <td>would be a better experience if the video and ...</td>\n",
       "      <td>By Gabriel E R</td>\n",
       "      <td>2020-09-28</td>\n",
       "      <td>4</td>\n",
       "      <td>google-cbrs-cpi-training</td>\n",
       "      <td>2020</td>\n",
       "    </tr>\n",
       "    <tr>\n",
       "      <th>2</th>\n",
       "      <td>Information was perfect! The program itself wa...</td>\n",
       "      <td>By Jacob D</td>\n",
       "      <td>2020-04-08</td>\n",
       "      <td>4</td>\n",
       "      <td>google-cbrs-cpi-training</td>\n",
       "      <td>2020</td>\n",
       "    </tr>\n",
       "  </tbody>\n",
       "</table>\n",
       "</div>"
      ],
      "text/plain": [
       "                                             reviews       reviewers  \\\n",
       "0  Pretty dry, but I was able to pass with just t...     By Robert S   \n",
       "1  would be a better experience if the video and ...  By Gabriel E R   \n",
       "2  Information was perfect! The program itself wa...      By Jacob D   \n",
       "\n",
       "  date_reviews  rating                 course_id  year  \n",
       "0   2020-02-12       4  google-cbrs-cpi-training  2020  \n",
       "1   2020-09-28       4  google-cbrs-cpi-training  2020  \n",
       "2   2020-04-08       4  google-cbrs-cpi-training  2020  "
      ]
     },
     "execution_count": 12,
     "metadata": {},
     "output_type": "execute_result"
    }
   ],
   "source": [
    "coursera_r_orig.head(3)"
   ]
  },
  {
   "attachments": {},
   "cell_type": "markdown",
   "metadata": {},
   "source": [
    "Se pasa toda la columna a minúscula"
   ]
  },
  {
   "cell_type": "code",
   "execution_count": 13,
   "metadata": {},
   "outputs": [],
   "source": [
    "coursera_r_orig['reviews'] = coursera_r_orig['reviews'].astype(str).str.lower()"
   ]
  },
  {
   "cell_type": "code",
   "execution_count": 14,
   "metadata": {},
   "outputs": [
    {
     "data": {
      "text/plain": [
       "0    pretty dry, but i was able to pass with just t...\n",
       "1    would be a better experience if the video and ...\n",
       "2    information was perfect! the program itself wa...\n",
       "Name: reviews, dtype: object"
      ]
     },
     "execution_count": 14,
     "metadata": {},
     "output_type": "execute_result"
    }
   ],
   "source": [
    "coursera_r_orig['reviews'].head(3)"
   ]
  },
  {
   "attachments": {},
   "cell_type": "markdown",
   "metadata": {},
   "source": [
    "Se generan tokens con las palabras para poder hacer un análisis de sentimiento a partir de las reviews"
   ]
  },
  {
   "cell_type": "code",
   "execution_count": 15,
   "metadata": {},
   "outputs": [],
   "source": [
    "regexp = RegexpTokenizer('\\w+')"
   ]
  },
  {
   "cell_type": "code",
   "execution_count": 16,
   "metadata": {},
   "outputs": [
    {
     "data": {
      "text/html": [
       "<div>\n",
       "<style scoped>\n",
       "    .dataframe tbody tr th:only-of-type {\n",
       "        vertical-align: middle;\n",
       "    }\n",
       "\n",
       "    .dataframe tbody tr th {\n",
       "        vertical-align: top;\n",
       "    }\n",
       "\n",
       "    .dataframe thead th {\n",
       "        text-align: right;\n",
       "    }\n",
       "</style>\n",
       "<table border=\"1\" class=\"dataframe\">\n",
       "  <thead>\n",
       "    <tr style=\"text-align: right;\">\n",
       "      <th></th>\n",
       "      <th>reviews</th>\n",
       "      <th>reviewers</th>\n",
       "      <th>date_reviews</th>\n",
       "      <th>rating</th>\n",
       "      <th>course_id</th>\n",
       "      <th>year</th>\n",
       "      <th>reviews_token</th>\n",
       "    </tr>\n",
       "  </thead>\n",
       "  <tbody>\n",
       "    <tr>\n",
       "      <th>0</th>\n",
       "      <td>pretty dry, but i was able to pass with just t...</td>\n",
       "      <td>By Robert S</td>\n",
       "      <td>2020-02-12</td>\n",
       "      <td>4</td>\n",
       "      <td>google-cbrs-cpi-training</td>\n",
       "      <td>2020</td>\n",
       "      <td>[pretty, dry, but, i, was, able, to, pass, wit...</td>\n",
       "    </tr>\n",
       "    <tr>\n",
       "      <th>1</th>\n",
       "      <td>would be a better experience if the video and ...</td>\n",
       "      <td>By Gabriel E R</td>\n",
       "      <td>2020-09-28</td>\n",
       "      <td>4</td>\n",
       "      <td>google-cbrs-cpi-training</td>\n",
       "      <td>2020</td>\n",
       "      <td>[would, be, a, better, experience, if, the, vi...</td>\n",
       "    </tr>\n",
       "    <tr>\n",
       "      <th>2</th>\n",
       "      <td>information was perfect! the program itself wa...</td>\n",
       "      <td>By Jacob D</td>\n",
       "      <td>2020-04-08</td>\n",
       "      <td>4</td>\n",
       "      <td>google-cbrs-cpi-training</td>\n",
       "      <td>2020</td>\n",
       "      <td>[information, was, perfect, the, program, itse...</td>\n",
       "    </tr>\n",
       "  </tbody>\n",
       "</table>\n",
       "</div>"
      ],
      "text/plain": [
       "                                             reviews       reviewers  \\\n",
       "0  pretty dry, but i was able to pass with just t...     By Robert S   \n",
       "1  would be a better experience if the video and ...  By Gabriel E R   \n",
       "2  information was perfect! the program itself wa...      By Jacob D   \n",
       "\n",
       "  date_reviews  rating                 course_id  year  \\\n",
       "0   2020-02-12       4  google-cbrs-cpi-training  2020   \n",
       "1   2020-09-28       4  google-cbrs-cpi-training  2020   \n",
       "2   2020-04-08       4  google-cbrs-cpi-training  2020   \n",
       "\n",
       "                                       reviews_token  \n",
       "0  [pretty, dry, but, i, was, able, to, pass, wit...  \n",
       "1  [would, be, a, better, experience, if, the, vi...  \n",
       "2  [information, was, perfect, the, program, itse...  "
      ]
     },
     "execution_count": 16,
     "metadata": {},
     "output_type": "execute_result"
    }
   ],
   "source": [
    "coursera_r_orig['reviews_token']=coursera_r_orig['reviews'].apply(regexp.tokenize)\n",
    "coursera_r_orig.head(3)"
   ]
  },
  {
   "cell_type": "code",
   "execution_count": 17,
   "metadata": {},
   "outputs": [
    {
     "name": "stderr",
     "output_type": "stream",
     "text": [
      "[nltk_data] Downloading package stopwords to /home/monica/nltk_data...\n",
      "[nltk_data]   Package stopwords is already up-to-date!\n"
     ]
    },
    {
     "data": {
      "text/plain": [
       "True"
      ]
     },
     "execution_count": 17,
     "metadata": {},
     "output_type": "execute_result"
    }
   ],
   "source": [
    "nltk.download('stopwords')"
   ]
  },
  {
   "cell_type": "code",
   "execution_count": 18,
   "metadata": {},
   "outputs": [],
   "source": [
    "stopwords = nltk.corpus.stopwords.words(\"english\")"
   ]
  },
  {
   "attachments": {},
   "cell_type": "markdown",
   "metadata": {},
   "source": [
    "Se eligen palabras que no aportan nada al análisis y se repiten mucho"
   ]
  },
  {
   "cell_type": "code",
   "execution_count": 19,
   "metadata": {},
   "outputs": [],
   "source": [
    "my_stopwords = ['https', 'course', 'curso', 'really', 'que', 'would']\n",
    "stopwords.extend(my_stopwords)"
   ]
  },
  {
   "attachments": {},
   "cell_type": "markdown",
   "metadata": {},
   "source": [
    "Se vuelven a generar los tokens, evitando las palabras excluidas"
   ]
  },
  {
   "cell_type": "code",
   "execution_count": 20,
   "metadata": {},
   "outputs": [
    {
     "data": {
      "text/html": [
       "<div>\n",
       "<style scoped>\n",
       "    .dataframe tbody tr th:only-of-type {\n",
       "        vertical-align: middle;\n",
       "    }\n",
       "\n",
       "    .dataframe tbody tr th {\n",
       "        vertical-align: top;\n",
       "    }\n",
       "\n",
       "    .dataframe thead th {\n",
       "        text-align: right;\n",
       "    }\n",
       "</style>\n",
       "<table border=\"1\" class=\"dataframe\">\n",
       "  <thead>\n",
       "    <tr style=\"text-align: right;\">\n",
       "      <th></th>\n",
       "      <th>reviews</th>\n",
       "      <th>reviewers</th>\n",
       "      <th>date_reviews</th>\n",
       "      <th>rating</th>\n",
       "      <th>course_id</th>\n",
       "      <th>year</th>\n",
       "      <th>reviews_token</th>\n",
       "    </tr>\n",
       "  </thead>\n",
       "  <tbody>\n",
       "    <tr>\n",
       "      <th>0</th>\n",
       "      <td>pretty dry, but i was able to pass with just t...</td>\n",
       "      <td>By Robert S</td>\n",
       "      <td>2020-02-12</td>\n",
       "      <td>4</td>\n",
       "      <td>google-cbrs-cpi-training</td>\n",
       "      <td>2020</td>\n",
       "      <td>[pretty, dry, able, pass, two, complete, watch...</td>\n",
       "    </tr>\n",
       "    <tr>\n",
       "      <th>1</th>\n",
       "      <td>would be a better experience if the video and ...</td>\n",
       "      <td>By Gabriel E R</td>\n",
       "      <td>2020-09-28</td>\n",
       "      <td>4</td>\n",
       "      <td>google-cbrs-cpi-training</td>\n",
       "      <td>2020</td>\n",
       "      <td>[better, experience, video, screen, shots, sho...</td>\n",
       "    </tr>\n",
       "    <tr>\n",
       "      <th>2</th>\n",
       "      <td>information was perfect! the program itself wa...</td>\n",
       "      <td>By Jacob D</td>\n",
       "      <td>2020-04-08</td>\n",
       "      <td>4</td>\n",
       "      <td>google-cbrs-cpi-training</td>\n",
       "      <td>2020</td>\n",
       "      <td>[information, perfect, program, little, annoyi...</td>\n",
       "    </tr>\n",
       "  </tbody>\n",
       "</table>\n",
       "</div>"
      ],
      "text/plain": [
       "                                             reviews       reviewers  \\\n",
       "0  pretty dry, but i was able to pass with just t...     By Robert S   \n",
       "1  would be a better experience if the video and ...  By Gabriel E R   \n",
       "2  information was perfect! the program itself wa...      By Jacob D   \n",
       "\n",
       "  date_reviews  rating                 course_id  year  \\\n",
       "0   2020-02-12       4  google-cbrs-cpi-training  2020   \n",
       "1   2020-09-28       4  google-cbrs-cpi-training  2020   \n",
       "2   2020-04-08       4  google-cbrs-cpi-training  2020   \n",
       "\n",
       "                                       reviews_token  \n",
       "0  [pretty, dry, able, pass, two, complete, watch...  \n",
       "1  [better, experience, video, screen, shots, sho...  \n",
       "2  [information, perfect, program, little, annoyi...  "
      ]
     },
     "execution_count": 20,
     "metadata": {},
     "output_type": "execute_result"
    }
   ],
   "source": [
    "coursera_r_orig['reviews_token'] = coursera_r_orig['reviews_token'].apply(lambda x: [item for item in x if item not in stopwords])\n",
    "coursera_r_orig.head(3)"
   ]
  },
  {
   "cell_type": "code",
   "execution_count": 21,
   "metadata": {},
   "outputs": [],
   "source": [
    "coursera_r_orig['reviews_string'] = coursera_r_orig['reviews_token'].apply(lambda x: ' '.join([item for item in x if len(item)>2]))"
   ]
  },
  {
   "cell_type": "code",
   "execution_count": 22,
   "metadata": {},
   "outputs": [
    {
     "data": {
      "text/html": [
       "<div>\n",
       "<style scoped>\n",
       "    .dataframe tbody tr th:only-of-type {\n",
       "        vertical-align: middle;\n",
       "    }\n",
       "\n",
       "    .dataframe tbody tr th {\n",
       "        vertical-align: top;\n",
       "    }\n",
       "\n",
       "    .dataframe thead th {\n",
       "        text-align: right;\n",
       "    }\n",
       "</style>\n",
       "<table border=\"1\" class=\"dataframe\">\n",
       "  <thead>\n",
       "    <tr style=\"text-align: right;\">\n",
       "      <th></th>\n",
       "      <th>reviews</th>\n",
       "      <th>reviews_token</th>\n",
       "      <th>reviews_string</th>\n",
       "    </tr>\n",
       "  </thead>\n",
       "  <tbody>\n",
       "    <tr>\n",
       "      <th>0</th>\n",
       "      <td>pretty dry, but i was able to pass with just t...</td>\n",
       "      <td>[pretty, dry, able, pass, two, complete, watch...</td>\n",
       "      <td>pretty dry able pass two complete watches happ...</td>\n",
       "    </tr>\n",
       "    <tr>\n",
       "      <th>1</th>\n",
       "      <td>would be a better experience if the video and ...</td>\n",
       "      <td>[better, experience, video, screen, shots, sho...</td>\n",
       "      <td>better experience video screen shots sho side ...</td>\n",
       "    </tr>\n",
       "    <tr>\n",
       "      <th>2</th>\n",
       "      <td>information was perfect! the program itself wa...</td>\n",
       "      <td>[information, perfect, program, little, annoyi...</td>\n",
       "      <td>information perfect program little annoying wa...</td>\n",
       "    </tr>\n",
       "    <tr>\n",
       "      <th>3</th>\n",
       "      <td>a few grammatical mistakes on test made me do ...</td>\n",
       "      <td>[grammatical, mistakes, test, made, double, ta...</td>\n",
       "      <td>grammatical mistakes test made double take bad</td>\n",
       "    </tr>\n",
       "    <tr>\n",
       "      <th>4</th>\n",
       "      <td>excellent course and the training provided was...</td>\n",
       "      <td>[excellent, training, provided, detailed, easy...</td>\n",
       "      <td>excellent training provided detailed easy follow</td>\n",
       "    </tr>\n",
       "  </tbody>\n",
       "</table>\n",
       "</div>"
      ],
      "text/plain": [
       "                                             reviews  \\\n",
       "0  pretty dry, but i was able to pass with just t...   \n",
       "1  would be a better experience if the video and ...   \n",
       "2  information was perfect! the program itself wa...   \n",
       "3  a few grammatical mistakes on test made me do ...   \n",
       "4  excellent course and the training provided was...   \n",
       "\n",
       "                                       reviews_token  \\\n",
       "0  [pretty, dry, able, pass, two, complete, watch...   \n",
       "1  [better, experience, video, screen, shots, sho...   \n",
       "2  [information, perfect, program, little, annoyi...   \n",
       "3  [grammatical, mistakes, test, made, double, ta...   \n",
       "4  [excellent, training, provided, detailed, easy...   \n",
       "\n",
       "                                      reviews_string  \n",
       "0  pretty dry able pass two complete watches happ...  \n",
       "1  better experience video screen shots sho side ...  \n",
       "2  information perfect program little annoying wa...  \n",
       "3     grammatical mistakes test made double take bad  \n",
       "4   excellent training provided detailed easy follow  "
      ]
     },
     "execution_count": 22,
     "metadata": {},
     "output_type": "execute_result"
    }
   ],
   "source": [
    "coursera_r_orig[['reviews', 'reviews_token', 'reviews_string']].head()"
   ]
  },
  {
   "cell_type": "code",
   "execution_count": 23,
   "metadata": {},
   "outputs": [],
   "source": [
    "all_words = ' '.join([word for word in coursera_r_orig['reviews_string']])"
   ]
  },
  {
   "cell_type": "code",
   "execution_count": 24,
   "metadata": {},
   "outputs": [
    {
     "name": "stderr",
     "output_type": "stream",
     "text": [
      "[nltk_data] Downloading package punkt to /home/monica/nltk_data...\n",
      "[nltk_data]   Package punkt is already up-to-date!\n"
     ]
    },
    {
     "data": {
      "text/plain": [
       "True"
      ]
     },
     "execution_count": 24,
     "metadata": {},
     "output_type": "execute_result"
    }
   ],
   "source": [
    "nltk.download('punkt')"
   ]
  },
  {
   "cell_type": "code",
   "execution_count": 25,
   "metadata": {},
   "outputs": [],
   "source": [
    "tokenized_words = nltk.tokenize.word_tokenize(all_words)"
   ]
  },
  {
   "cell_type": "code",
   "execution_count": 26,
   "metadata": {},
   "outputs": [
    {
     "data": {
      "text/plain": [
       "FreqDist({'great': 94091, 'good': 93779, 'learning': 57193, 'well': 44842, 'thank': 44385, 'lot': 42486, 'excellent': 42483, 'learn': 41624, 'much': 34230, 'understand': 31416, ...})"
      ]
     },
     "execution_count": 26,
     "metadata": {},
     "output_type": "execute_result"
    }
   ],
   "source": [
    "fdist = FreqDist(tokenized_words)\n",
    "fdist"
   ]
  },
  {
   "cell_type": "code",
   "execution_count": 27,
   "metadata": {},
   "outputs": [],
   "source": [
    "coursera_r_orig['reviews_string_fdist'] = coursera_r_orig['reviews_token'].apply(lambda x: ' '.join([item for item in x if fdist[item] >= 4 ]))"
   ]
  },
  {
   "cell_type": "code",
   "execution_count": 28,
   "metadata": {},
   "outputs": [
    {
     "data": {
      "text/html": [
       "<div>\n",
       "<style scoped>\n",
       "    .dataframe tbody tr th:only-of-type {\n",
       "        vertical-align: middle;\n",
       "    }\n",
       "\n",
       "    .dataframe tbody tr th {\n",
       "        vertical-align: top;\n",
       "    }\n",
       "\n",
       "    .dataframe thead th {\n",
       "        text-align: right;\n",
       "    }\n",
       "</style>\n",
       "<table border=\"1\" class=\"dataframe\">\n",
       "  <thead>\n",
       "    <tr style=\"text-align: right;\">\n",
       "      <th></th>\n",
       "      <th>reviews</th>\n",
       "      <th>reviews_token</th>\n",
       "      <th>reviews_string</th>\n",
       "      <th>reviews_string_fdist</th>\n",
       "    </tr>\n",
       "  </thead>\n",
       "  <tbody>\n",
       "    <tr>\n",
       "      <th>0</th>\n",
       "      <td>pretty dry, but i was able to pass with just t...</td>\n",
       "      <td>[pretty, dry, able, pass, two, complete, watch...</td>\n",
       "      <td>pretty dry able pass two complete watches happ...</td>\n",
       "      <td>pretty dry able pass two complete watches happ...</td>\n",
       "    </tr>\n",
       "    <tr>\n",
       "      <th>1</th>\n",
       "      <td>would be a better experience if the video and ...</td>\n",
       "      <td>[better, experience, video, screen, shots, sho...</td>\n",
       "      <td>better experience video screen shots sho side ...</td>\n",
       "      <td>better experience video screen shots sho side ...</td>\n",
       "    </tr>\n",
       "    <tr>\n",
       "      <th>2</th>\n",
       "      <td>information was perfect! the program itself wa...</td>\n",
       "      <td>[information, perfect, program, little, annoyi...</td>\n",
       "      <td>information perfect program little annoying wa...</td>\n",
       "      <td>information perfect program little annoying wa...</td>\n",
       "    </tr>\n",
       "    <tr>\n",
       "      <th>3</th>\n",
       "      <td>a few grammatical mistakes on test made me do ...</td>\n",
       "      <td>[grammatical, mistakes, test, made, double, ta...</td>\n",
       "      <td>grammatical mistakes test made double take bad</td>\n",
       "      <td>grammatical mistakes test made double take bad</td>\n",
       "    </tr>\n",
       "    <tr>\n",
       "      <th>4</th>\n",
       "      <td>excellent course and the training provided was...</td>\n",
       "      <td>[excellent, training, provided, detailed, easy...</td>\n",
       "      <td>excellent training provided detailed easy follow</td>\n",
       "      <td>excellent training provided detailed easy follow</td>\n",
       "    </tr>\n",
       "  </tbody>\n",
       "</table>\n",
       "</div>"
      ],
      "text/plain": [
       "                                             reviews  \\\n",
       "0  pretty dry, but i was able to pass with just t...   \n",
       "1  would be a better experience if the video and ...   \n",
       "2  information was perfect! the program itself wa...   \n",
       "3  a few grammatical mistakes on test made me do ...   \n",
       "4  excellent course and the training provided was...   \n",
       "\n",
       "                                       reviews_token  \\\n",
       "0  [pretty, dry, able, pass, two, complete, watch...   \n",
       "1  [better, experience, video, screen, shots, sho...   \n",
       "2  [information, perfect, program, little, annoyi...   \n",
       "3  [grammatical, mistakes, test, made, double, ta...   \n",
       "4  [excellent, training, provided, detailed, easy...   \n",
       "\n",
       "                                      reviews_string  \\\n",
       "0  pretty dry able pass two complete watches happ...   \n",
       "1  better experience video screen shots sho side ...   \n",
       "2  information perfect program little annoying wa...   \n",
       "3     grammatical mistakes test made double take bad   \n",
       "4   excellent training provided detailed easy follow   \n",
       "\n",
       "                                reviews_string_fdist  \n",
       "0  pretty dry able pass two complete watches happ...  \n",
       "1  better experience video screen shots sho side ...  \n",
       "2  information perfect program little annoying wa...  \n",
       "3     grammatical mistakes test made double take bad  \n",
       "4   excellent training provided detailed easy follow  "
      ]
     },
     "execution_count": 28,
     "metadata": {},
     "output_type": "execute_result"
    }
   ],
   "source": [
    "coursera_r_orig[['reviews', 'reviews_token', 'reviews_string', 'reviews_string_fdist']].head()"
   ]
  },
  {
   "cell_type": "code",
   "execution_count": 29,
   "metadata": {},
   "outputs": [
    {
     "name": "stderr",
     "output_type": "stream",
     "text": [
      "[nltk_data] Downloading package wordnet to /home/monica/nltk_data...\n",
      "[nltk_data]   Package wordnet is already up-to-date!\n",
      "[nltk_data] Downloading package omw-1.4 to /home/monica/nltk_data...\n",
      "[nltk_data]   Package omw-1.4 is already up-to-date!\n"
     ]
    },
    {
     "data": {
      "text/plain": [
       "True"
      ]
     },
     "execution_count": 29,
     "metadata": {},
     "output_type": "execute_result"
    }
   ],
   "source": [
    "nltk.download('wordnet')\n",
    "nltk.download('omw-1.4')"
   ]
  },
  {
   "cell_type": "code",
   "execution_count": 30,
   "metadata": {},
   "outputs": [],
   "source": [
    "wordnet_lem = WordNetLemmatizer()"
   ]
  },
  {
   "cell_type": "code",
   "execution_count": 31,
   "metadata": {},
   "outputs": [],
   "source": [
    "coursera_r_orig['reviews_string_lem'] = coursera_r_orig['reviews_string_fdist'].apply(wordnet_lem.lemmatize)"
   ]
  },
  {
   "cell_type": "code",
   "execution_count": 32,
   "metadata": {},
   "outputs": [],
   "source": [
    "coursera_r_orig['is_equal']= (coursera_r_orig['reviews_string_fdist']==coursera_r_orig['reviews_string_lem'])"
   ]
  },
  {
   "cell_type": "code",
   "execution_count": 33,
   "metadata": {},
   "outputs": [
    {
     "data": {
      "text/plain": [
       "True     519734\n",
       "False       213\n",
       "Name: is_equal, dtype: int64"
      ]
     },
     "execution_count": 33,
     "metadata": {},
     "output_type": "execute_result"
    }
   ],
   "source": [
    "coursera_r_orig.is_equal.value_counts()"
   ]
  },
  {
   "cell_type": "code",
   "execution_count": 34,
   "metadata": {},
   "outputs": [],
   "source": [
    "all_words_lem = ' '.join([word for word in coursera_r_orig['reviews_string_lem']])"
   ]
  },
  {
   "cell_type": "code",
   "execution_count": 35,
   "metadata": {},
   "outputs": [],
   "source": [
    "words = nltk.word_tokenize(all_words_lem)\n",
    "fd = FreqDist(words)"
   ]
  },
  {
   "cell_type": "code",
   "execution_count": 36,
   "metadata": {},
   "outputs": [
    {
     "name": "stderr",
     "output_type": "stream",
     "text": [
      "[nltk_data] Downloading package vader_lexicon to\n",
      "[nltk_data]     /home/monica/nltk_data...\n",
      "[nltk_data]   Package vader_lexicon is already up-to-date!\n"
     ]
    },
    {
     "data": {
      "text/plain": [
       "True"
      ]
     },
     "execution_count": 36,
     "metadata": {},
     "output_type": "execute_result"
    }
   ],
   "source": [
    "nltk.download('vader_lexicon')"
   ]
  },
  {
   "cell_type": "code",
   "execution_count": 37,
   "metadata": {},
   "outputs": [],
   "source": [
    "analyzer = SentimentIntensityAnalyzer()"
   ]
  },
  {
   "attachments": {},
   "cell_type": "markdown",
   "metadata": {},
   "source": [
    "Se empieza a separar las reviews positivas de las negativas"
   ]
  },
  {
   "cell_type": "code",
   "execution_count": 38,
   "metadata": {},
   "outputs": [
    {
     "data": {
      "text/html": [
       "<div>\n",
       "<style scoped>\n",
       "    .dataframe tbody tr th:only-of-type {\n",
       "        vertical-align: middle;\n",
       "    }\n",
       "\n",
       "    .dataframe tbody tr th {\n",
       "        vertical-align: top;\n",
       "    }\n",
       "\n",
       "    .dataframe thead th {\n",
       "        text-align: right;\n",
       "    }\n",
       "</style>\n",
       "<table border=\"1\" class=\"dataframe\">\n",
       "  <thead>\n",
       "    <tr style=\"text-align: right;\">\n",
       "      <th></th>\n",
       "      <th>reviews</th>\n",
       "      <th>reviewers</th>\n",
       "      <th>date_reviews</th>\n",
       "      <th>rating</th>\n",
       "      <th>course_id</th>\n",
       "      <th>year</th>\n",
       "      <th>reviews_token</th>\n",
       "      <th>reviews_string</th>\n",
       "      <th>reviews_string_fdist</th>\n",
       "      <th>reviews_string_lem</th>\n",
       "      <th>is_equal</th>\n",
       "      <th>polarity</th>\n",
       "    </tr>\n",
       "  </thead>\n",
       "  <tbody>\n",
       "    <tr>\n",
       "      <th>1454642</th>\n",
       "      <td>nice</td>\n",
       "      <td>By Aung T K</td>\n",
       "      <td>2020-10-10</td>\n",
       "      <td>5</td>\n",
       "      <td>computer-networking</td>\n",
       "      <td>2020</td>\n",
       "      <td>[nice]</td>\n",
       "      <td>nice</td>\n",
       "      <td>nice</td>\n",
       "      <td>nice</td>\n",
       "      <td>True</td>\n",
       "      <td>{'neg': 0.0, 'neu': 0.0, 'pos': 1.0, 'compound...</td>\n",
       "    </tr>\n",
       "    <tr>\n",
       "      <th>1454643</th>\n",
       "      <td>good</td>\n",
       "      <td>By Anthony N S</td>\n",
       "      <td>2020-10-08</td>\n",
       "      <td>5</td>\n",
       "      <td>computer-networking</td>\n",
       "      <td>2020</td>\n",
       "      <td>[good]</td>\n",
       "      <td>good</td>\n",
       "      <td>good</td>\n",
       "      <td>good</td>\n",
       "      <td>True</td>\n",
       "      <td>{'neg': 0.0, 'neu': 0.0, 'pos': 1.0, 'compound...</td>\n",
       "    </tr>\n",
       "    <tr>\n",
       "      <th>1454644</th>\n",
       "      <td>good</td>\n",
       "      <td>By Kasirivu A K</td>\n",
       "      <td>2020-10-07</td>\n",
       "      <td>5</td>\n",
       "      <td>computer-networking</td>\n",
       "      <td>2020</td>\n",
       "      <td>[good]</td>\n",
       "      <td>good</td>\n",
       "      <td>good</td>\n",
       "      <td>good</td>\n",
       "      <td>True</td>\n",
       "      <td>{'neg': 0.0, 'neu': 0.0, 'pos': 1.0, 'compound...</td>\n",
       "    </tr>\n",
       "  </tbody>\n",
       "</table>\n",
       "</div>"
      ],
      "text/plain": [
       "        reviews        reviewers date_reviews  rating            course_id  \\\n",
       "1454642    nice      By Aung T K   2020-10-10       5  computer-networking   \n",
       "1454643    good   By Anthony N S   2020-10-08       5  computer-networking   \n",
       "1454644    good  By Kasirivu A K   2020-10-07       5  computer-networking   \n",
       "\n",
       "         year reviews_token reviews_string reviews_string_fdist  \\\n",
       "1454642  2020        [nice]           nice                 nice   \n",
       "1454643  2020        [good]           good                 good   \n",
       "1454644  2020        [good]           good                 good   \n",
       "\n",
       "        reviews_string_lem  is_equal  \\\n",
       "1454642               nice      True   \n",
       "1454643               good      True   \n",
       "1454644               good      True   \n",
       "\n",
       "                                                  polarity  \n",
       "1454642  {'neg': 0.0, 'neu': 0.0, 'pos': 1.0, 'compound...  \n",
       "1454643  {'neg': 0.0, 'neu': 0.0, 'pos': 1.0, 'compound...  \n",
       "1454644  {'neg': 0.0, 'neu': 0.0, 'pos': 1.0, 'compound...  "
      ]
     },
     "execution_count": 38,
     "metadata": {},
     "output_type": "execute_result"
    }
   ],
   "source": [
    "coursera_r_orig['polarity'] = coursera_r_orig['reviews_string_lem'].apply(lambda x: analyzer.polarity_scores(x))\n",
    "coursera_r_orig.tail(3)"
   ]
  },
  {
   "cell_type": "code",
   "execution_count": 39,
   "metadata": {},
   "outputs": [
    {
     "data": {
      "text/html": [
       "<div>\n",
       "<style scoped>\n",
       "    .dataframe tbody tr th:only-of-type {\n",
       "        vertical-align: middle;\n",
       "    }\n",
       "\n",
       "    .dataframe tbody tr th {\n",
       "        vertical-align: top;\n",
       "    }\n",
       "\n",
       "    .dataframe thead th {\n",
       "        text-align: right;\n",
       "    }\n",
       "</style>\n",
       "<table border=\"1\" class=\"dataframe\">\n",
       "  <thead>\n",
       "    <tr style=\"text-align: right;\">\n",
       "      <th></th>\n",
       "      <th>reviews</th>\n",
       "      <th>reviewers</th>\n",
       "      <th>date_reviews</th>\n",
       "      <th>rating</th>\n",
       "      <th>course_id</th>\n",
       "      <th>year</th>\n",
       "      <th>reviews_token</th>\n",
       "      <th>reviews_string</th>\n",
       "      <th>reviews_string_fdist</th>\n",
       "      <th>reviews_string_lem</th>\n",
       "      <th>is_equal</th>\n",
       "      <th>neg</th>\n",
       "      <th>neu</th>\n",
       "      <th>pos</th>\n",
       "      <th>compound</th>\n",
       "    </tr>\n",
       "  </thead>\n",
       "  <tbody>\n",
       "    <tr>\n",
       "      <th>0</th>\n",
       "      <td>pretty dry, but i was able to pass with just t...</td>\n",
       "      <td>By Robert S</td>\n",
       "      <td>2020-02-12</td>\n",
       "      <td>4</td>\n",
       "      <td>google-cbrs-cpi-training</td>\n",
       "      <td>2020</td>\n",
       "      <td>[pretty, dry, able, pass, two, complete, watch...</td>\n",
       "      <td>pretty dry able pass two complete watches happ...</td>\n",
       "      <td>pretty dry able pass two complete watches happ...</td>\n",
       "      <td>pretty dry able pass two complete watches happ...</td>\n",
       "      <td>True</td>\n",
       "      <td>0.076</td>\n",
       "      <td>0.563</td>\n",
       "      <td>0.361</td>\n",
       "      <td>0.8779</td>\n",
       "    </tr>\n",
       "    <tr>\n",
       "      <th>1</th>\n",
       "      <td>would be a better experience if the video and ...</td>\n",
       "      <td>By Gabriel E R</td>\n",
       "      <td>2020-09-28</td>\n",
       "      <td>4</td>\n",
       "      <td>google-cbrs-cpi-training</td>\n",
       "      <td>2020</td>\n",
       "      <td>[better, experience, video, screen, shots, sho...</td>\n",
       "      <td>better experience video screen shots sho side ...</td>\n",
       "      <td>better experience video screen shots sho side ...</td>\n",
       "      <td>better experience video screen shots sho side ...</td>\n",
       "      <td>True</td>\n",
       "      <td>0.000</td>\n",
       "      <td>0.868</td>\n",
       "      <td>0.132</td>\n",
       "      <td>0.4404</td>\n",
       "    </tr>\n",
       "    <tr>\n",
       "      <th>2</th>\n",
       "      <td>information was perfect! the program itself wa...</td>\n",
       "      <td>By Jacob D</td>\n",
       "      <td>2020-04-08</td>\n",
       "      <td>4</td>\n",
       "      <td>google-cbrs-cpi-training</td>\n",
       "      <td>2020</td>\n",
       "      <td>[information, perfect, program, little, annoyi...</td>\n",
       "      <td>information perfect program little annoying wa...</td>\n",
       "      <td>information perfect program little annoying wa...</td>\n",
       "      <td>information perfect program little annoying wa...</td>\n",
       "      <td>True</td>\n",
       "      <td>0.106</td>\n",
       "      <td>0.570</td>\n",
       "      <td>0.324</td>\n",
       "      <td>0.7178</td>\n",
       "    </tr>\n",
       "  </tbody>\n",
       "</table>\n",
       "</div>"
      ],
      "text/plain": [
       "                                             reviews       reviewers  \\\n",
       "0  pretty dry, but i was able to pass with just t...     By Robert S   \n",
       "1  would be a better experience if the video and ...  By Gabriel E R   \n",
       "2  information was perfect! the program itself wa...      By Jacob D   \n",
       "\n",
       "  date_reviews  rating                 course_id  year  \\\n",
       "0   2020-02-12       4  google-cbrs-cpi-training  2020   \n",
       "1   2020-09-28       4  google-cbrs-cpi-training  2020   \n",
       "2   2020-04-08       4  google-cbrs-cpi-training  2020   \n",
       "\n",
       "                                       reviews_token  \\\n",
       "0  [pretty, dry, able, pass, two, complete, watch...   \n",
       "1  [better, experience, video, screen, shots, sho...   \n",
       "2  [information, perfect, program, little, annoyi...   \n",
       "\n",
       "                                      reviews_string  \\\n",
       "0  pretty dry able pass two complete watches happ...   \n",
       "1  better experience video screen shots sho side ...   \n",
       "2  information perfect program little annoying wa...   \n",
       "\n",
       "                                reviews_string_fdist  \\\n",
       "0  pretty dry able pass two complete watches happ...   \n",
       "1  better experience video screen shots sho side ...   \n",
       "2  information perfect program little annoying wa...   \n",
       "\n",
       "                                  reviews_string_lem  is_equal    neg    neu  \\\n",
       "0  pretty dry able pass two complete watches happ...      True  0.076  0.563   \n",
       "1  better experience video screen shots sho side ...      True  0.000  0.868   \n",
       "2  information perfect program little annoying wa...      True  0.106  0.570   \n",
       "\n",
       "     pos  compound  \n",
       "0  0.361    0.8779  \n",
       "1  0.132    0.4404  \n",
       "2  0.324    0.7178  "
      ]
     },
     "execution_count": 39,
     "metadata": {},
     "output_type": "execute_result"
    }
   ],
   "source": [
    "coursera_r_orig = pd.concat(\n",
    "    [coursera_r_orig.drop(['polarity'], axis=1), \n",
    "     coursera_r_orig['polarity'].apply(pd.Series)], axis=1)\n",
    "coursera_r_orig.head(3)"
   ]
  },
  {
   "attachments": {},
   "cell_type": "markdown",
   "metadata": {},
   "source": [
    "Se pasan los parámetros para que clasifique las reviews"
   ]
  },
  {
   "cell_type": "code",
   "execution_count": 40,
   "metadata": {},
   "outputs": [
    {
     "data": {
      "text/html": [
       "<div>\n",
       "<style scoped>\n",
       "    .dataframe tbody tr th:only-of-type {\n",
       "        vertical-align: middle;\n",
       "    }\n",
       "\n",
       "    .dataframe tbody tr th {\n",
       "        vertical-align: top;\n",
       "    }\n",
       "\n",
       "    .dataframe thead th {\n",
       "        text-align: right;\n",
       "    }\n",
       "</style>\n",
       "<table border=\"1\" class=\"dataframe\">\n",
       "  <thead>\n",
       "    <tr style=\"text-align: right;\">\n",
       "      <th></th>\n",
       "      <th>reviews</th>\n",
       "      <th>reviewers</th>\n",
       "      <th>date_reviews</th>\n",
       "      <th>rating</th>\n",
       "      <th>course_id</th>\n",
       "      <th>year</th>\n",
       "      <th>reviews_token</th>\n",
       "      <th>reviews_string</th>\n",
       "      <th>reviews_string_fdist</th>\n",
       "      <th>reviews_string_lem</th>\n",
       "      <th>is_equal</th>\n",
       "      <th>neg</th>\n",
       "      <th>neu</th>\n",
       "      <th>pos</th>\n",
       "      <th>compound</th>\n",
       "      <th>sentiment</th>\n",
       "    </tr>\n",
       "  </thead>\n",
       "  <tbody>\n",
       "    <tr>\n",
       "      <th>0</th>\n",
       "      <td>pretty dry, but i was able to pass with just t...</td>\n",
       "      <td>By Robert S</td>\n",
       "      <td>2020-02-12</td>\n",
       "      <td>4</td>\n",
       "      <td>google-cbrs-cpi-training</td>\n",
       "      <td>2020</td>\n",
       "      <td>[pretty, dry, able, pass, two, complete, watch...</td>\n",
       "      <td>pretty dry able pass two complete watches happ...</td>\n",
       "      <td>pretty dry able pass two complete watches happ...</td>\n",
       "      <td>pretty dry able pass two complete watches happ...</td>\n",
       "      <td>True</td>\n",
       "      <td>0.076</td>\n",
       "      <td>0.563</td>\n",
       "      <td>0.361</td>\n",
       "      <td>0.8779</td>\n",
       "      <td>positive</td>\n",
       "    </tr>\n",
       "    <tr>\n",
       "      <th>1</th>\n",
       "      <td>would be a better experience if the video and ...</td>\n",
       "      <td>By Gabriel E R</td>\n",
       "      <td>2020-09-28</td>\n",
       "      <td>4</td>\n",
       "      <td>google-cbrs-cpi-training</td>\n",
       "      <td>2020</td>\n",
       "      <td>[better, experience, video, screen, shots, sho...</td>\n",
       "      <td>better experience video screen shots sho side ...</td>\n",
       "      <td>better experience video screen shots sho side ...</td>\n",
       "      <td>better experience video screen shots sho side ...</td>\n",
       "      <td>True</td>\n",
       "      <td>0.000</td>\n",
       "      <td>0.868</td>\n",
       "      <td>0.132</td>\n",
       "      <td>0.4404</td>\n",
       "      <td>positive</td>\n",
       "    </tr>\n",
       "    <tr>\n",
       "      <th>2</th>\n",
       "      <td>information was perfect! the program itself wa...</td>\n",
       "      <td>By Jacob D</td>\n",
       "      <td>2020-04-08</td>\n",
       "      <td>4</td>\n",
       "      <td>google-cbrs-cpi-training</td>\n",
       "      <td>2020</td>\n",
       "      <td>[information, perfect, program, little, annoyi...</td>\n",
       "      <td>information perfect program little annoying wa...</td>\n",
       "      <td>information perfect program little annoying wa...</td>\n",
       "      <td>information perfect program little annoying wa...</td>\n",
       "      <td>True</td>\n",
       "      <td>0.106</td>\n",
       "      <td>0.570</td>\n",
       "      <td>0.324</td>\n",
       "      <td>0.7178</td>\n",
       "      <td>positive</td>\n",
       "    </tr>\n",
       "    <tr>\n",
       "      <th>3</th>\n",
       "      <td>a few grammatical mistakes on test made me do ...</td>\n",
       "      <td>By Dale B</td>\n",
       "      <td>2020-02-24</td>\n",
       "      <td>4</td>\n",
       "      <td>google-cbrs-cpi-training</td>\n",
       "      <td>2020</td>\n",
       "      <td>[grammatical, mistakes, test, made, double, ta...</td>\n",
       "      <td>grammatical mistakes test made double take bad</td>\n",
       "      <td>grammatical mistakes test made double take bad</td>\n",
       "      <td>grammatical mistakes test made double take bad</td>\n",
       "      <td>True</td>\n",
       "      <td>0.545</td>\n",
       "      <td>0.455</td>\n",
       "      <td>0.000</td>\n",
       "      <td>-0.7184</td>\n",
       "      <td>neutral</td>\n",
       "    </tr>\n",
       "  </tbody>\n",
       "</table>\n",
       "</div>"
      ],
      "text/plain": [
       "                                             reviews       reviewers  \\\n",
       "0  pretty dry, but i was able to pass with just t...     By Robert S   \n",
       "1  would be a better experience if the video and ...  By Gabriel E R   \n",
       "2  information was perfect! the program itself wa...      By Jacob D   \n",
       "3  a few grammatical mistakes on test made me do ...       By Dale B   \n",
       "\n",
       "  date_reviews  rating                 course_id  year  \\\n",
       "0   2020-02-12       4  google-cbrs-cpi-training  2020   \n",
       "1   2020-09-28       4  google-cbrs-cpi-training  2020   \n",
       "2   2020-04-08       4  google-cbrs-cpi-training  2020   \n",
       "3   2020-02-24       4  google-cbrs-cpi-training  2020   \n",
       "\n",
       "                                       reviews_token  \\\n",
       "0  [pretty, dry, able, pass, two, complete, watch...   \n",
       "1  [better, experience, video, screen, shots, sho...   \n",
       "2  [information, perfect, program, little, annoyi...   \n",
       "3  [grammatical, mistakes, test, made, double, ta...   \n",
       "\n",
       "                                      reviews_string  \\\n",
       "0  pretty dry able pass two complete watches happ...   \n",
       "1  better experience video screen shots sho side ...   \n",
       "2  information perfect program little annoying wa...   \n",
       "3     grammatical mistakes test made double take bad   \n",
       "\n",
       "                                reviews_string_fdist  \\\n",
       "0  pretty dry able pass two complete watches happ...   \n",
       "1  better experience video screen shots sho side ...   \n",
       "2  information perfect program little annoying wa...   \n",
       "3     grammatical mistakes test made double take bad   \n",
       "\n",
       "                                  reviews_string_lem  is_equal    neg    neu  \\\n",
       "0  pretty dry able pass two complete watches happ...      True  0.076  0.563   \n",
       "1  better experience video screen shots sho side ...      True  0.000  0.868   \n",
       "2  information perfect program little annoying wa...      True  0.106  0.570   \n",
       "3     grammatical mistakes test made double take bad      True  0.545  0.455   \n",
       "\n",
       "     pos  compound sentiment  \n",
       "0  0.361    0.8779  positive  \n",
       "1  0.132    0.4404  positive  \n",
       "2  0.324    0.7178  positive  \n",
       "3  0.000   -0.7184   neutral  "
      ]
     },
     "execution_count": 40,
     "metadata": {},
     "output_type": "execute_result"
    }
   ],
   "source": [
    "coursera_r_orig['sentiment'] = coursera_r_orig['compound'].apply(lambda x: 'positive' if x >0 else 'neutral' if x<0 else 'negative')\n",
    "coursera_r_orig.head(4)"
   ]
  },
  {
   "cell_type": "code",
   "execution_count": 68,
   "metadata": {},
   "outputs": [
    {
     "data": {
      "image/png": "[encoded data removed]",
      "text/plain": [
       "<Figure size 800x500 with 1 Axes>"
      ]
     },
     "metadata": {},
     "output_type": "display_data"
    }
   ],
   "source": [
    "sns.countplot(y='sentiment', \n",
    "             data=coursera_r_orig, \n",
    "             palette=['#b2d8d8',\"#008080\", '#db3d13']\n",
    "           )\n",
    "plt.savefig('sentiment.png') \n",
    "plt.gcf().set_size_inches(8, 5)"
   ]
  },
  {
   "cell_type": "code",
   "execution_count": 66,
   "metadata": {},
   "outputs": [
    {
     "data": {
      "image/png": "[encoded data removed]",
      "text/plain": [
       "<Figure size 500x500 with 1 Axes>"
      ]
     },
     "metadata": {},
     "output_type": "display_data"
    }
   ],
   "source": [
    "sns.boxplot(y='compound', \n",
    "            x='sentiment',\n",
    "            palette=['#b2d8d8',\"#008080\", '#db3d13'], \n",
    "            data=coursera_r_orig)\n",
    "plt.savefig('compound.png')\n",
    "plt.gcf().set_size_inches(5, 5)"
   ]
  },
  {
   "cell_type": "code",
   "execution_count": 65,
   "metadata": {},
   "outputs": [
    {
     "data": {
      "image/png": "[encoded data removed]",
      "text/plain": [
       "<Figure size 500x500 with 1 Axes>"
      ]
     },
     "metadata": {},
     "output_type": "display_data"
    }
   ],
   "source": [
    "sns.histplot(data=coursera_r_orig, x=\"rating\", kde=True)\n",
    "plt.savefig('rating.png')\n",
    "plt.gcf().set_size_inches(5, 5)"
   ]
  },
  {
   "cell_type": "code",
   "execution_count": 44,
   "metadata": {},
   "outputs": [
    {
     "data": {
      "text/html": [
       "<div>\n",
       "<style scoped>\n",
       "    .dataframe tbody tr th:only-of-type {\n",
       "        vertical-align: middle;\n",
       "    }\n",
       "\n",
       "    .dataframe tbody tr th {\n",
       "        vertical-align: top;\n",
       "    }\n",
       "\n",
       "    .dataframe thead th {\n",
       "        text-align: right;\n",
       "    }\n",
       "</style>\n",
       "<table border=\"1\" class=\"dataframe\">\n",
       "  <thead>\n",
       "    <tr style=\"text-align: right;\">\n",
       "      <th></th>\n",
       "      <th>name</th>\n",
       "      <th>institution</th>\n",
       "      <th>course_url</th>\n",
       "      <th>course_id</th>\n",
       "    </tr>\n",
       "  </thead>\n",
       "  <tbody>\n",
       "    <tr>\n",
       "      <th>0</th>\n",
       "      <td>Machine Learning</td>\n",
       "      <td>Stanford University</td>\n",
       "      <td>https://www.coursera.org/learn/machine-learning</td>\n",
       "      <td>machine-learning</td>\n",
       "    </tr>\n",
       "    <tr>\n",
       "      <th>1</th>\n",
       "      <td>Indigenous Canada</td>\n",
       "      <td>University of Alberta</td>\n",
       "      <td>https://www.coursera.org/learn/indigenous-canada</td>\n",
       "      <td>indigenous-canada</td>\n",
       "    </tr>\n",
       "    <tr>\n",
       "      <th>2</th>\n",
       "      <td>The Science of Well-Being</td>\n",
       "      <td>Yale University</td>\n",
       "      <td>https://www.coursera.org/learn/the-science-of-...</td>\n",
       "      <td>the-science-of-well-being</td>\n",
       "    </tr>\n",
       "  </tbody>\n",
       "</table>\n",
       "</div>"
      ],
      "text/plain": [
       "                        name            institution  \\\n",
       "0           Machine Learning    Stanford University   \n",
       "1          Indigenous Canada  University of Alberta   \n",
       "2  The Science of Well-Being        Yale University   \n",
       "\n",
       "                                          course_url  \\\n",
       "0    https://www.coursera.org/learn/machine-learning   \n",
       "1   https://www.coursera.org/learn/indigenous-canada   \n",
       "2  https://www.coursera.org/learn/the-science-of-...   \n",
       "\n",
       "                   course_id  \n",
       "0           machine-learning  \n",
       "1          indigenous-canada  \n",
       "2  the-science-of-well-being  "
      ]
     },
     "execution_count": 44,
     "metadata": {},
     "output_type": "execute_result"
    }
   ],
   "source": [
    "coursera_courses = pd.read_csv('Coursera_courses.csv')\n",
    "coursera_courses.head(3)"
   ]
  },
  {
   "cell_type": "code",
   "execution_count": 45,
   "metadata": {},
   "outputs": [],
   "source": [
    "coursera_merged = pd.merge(coursera_r_orig,\n",
    "                 coursera_courses[['course_id', 'name', 'institution']],\n",
    "                 on='course_id')\n"
   ]
  },
  {
   "cell_type": "code",
   "execution_count": 46,
   "metadata": {},
   "outputs": [
    {
     "name": "stdout",
     "output_type": "stream",
     "text": [
      "<class 'pandas.core.frame.DataFrame'>\n",
      "Int64Index: 519947 entries, 0 to 519946\n",
      "Data columns (total 18 columns):\n",
      " #   Column                Non-Null Count   Dtype         \n",
      "---  ------                --------------   -----         \n",
      " 0   reviews               519947 non-null  object        \n",
      " 1   reviewers             519947 non-null  object        \n",
      " 2   date_reviews          519947 non-null  datetime64[ns]\n",
      " 3   rating                519947 non-null  int64         \n",
      " 4   course_id             519947 non-null  object        \n",
      " 5   year                  519947 non-null  int64         \n",
      " 6   reviews_token         519947 non-null  object        \n",
      " 7   reviews_string        519947 non-null  object        \n",
      " 8   reviews_string_fdist  519947 non-null  object        \n",
      " 9   reviews_string_lem    519947 non-null  object        \n",
      " 10  is_equal              519947 non-null  bool          \n",
      " 11  neg                   519947 non-null  float64       \n",
      " 12  neu                   519947 non-null  float64       \n",
      " 13  pos                   519947 non-null  float64       \n",
      " 14  compound              519947 non-null  float64       \n",
      " 15  sentiment             519947 non-null  object        \n",
      " 16  name                  519947 non-null  object        \n",
      " 17  institution           519947 non-null  object        \n",
      "dtypes: bool(1), datetime64[ns](1), float64(4), int64(2), object(10)\n",
      "memory usage: 71.9+ MB\n"
     ]
    }
   ],
   "source": [
    "coursera_merged.info()"
   ]
  },
  {
   "attachments": {},
   "cell_type": "markdown",
   "metadata": {},
   "source": [
    "Se quitan columnas que no voy a necesitar"
   ]
  },
  {
   "cell_type": "code",
   "execution_count": 47,
   "metadata": {},
   "outputs": [],
   "source": [
    "coursera_merged.drop(['reviews_token', 'reviews_string', 'reviews_string_fdist',\n",
    "       'reviews_string_lem', 'is_equal', 'neg', 'neu', 'pos'], axis = 1, inplace= True)"
   ]
  },
  {
   "attachments": {},
   "cell_type": "markdown",
   "metadata": {},
   "source": [
    "Se plotean los ratings por año en los cursos cuyos id tienen mayor relevancia "
   ]
  },
  {
   "cell_type": "code",
   "execution_count": 49,
   "metadata": {},
   "outputs": [],
   "source": [
    "course_python = coursera_merged[coursera_merged['course_id'].str.contains('py')]\n"
   ]
  },
  {
   "cell_type": "code",
   "execution_count": 50,
   "metadata": {},
   "outputs": [],
   "source": [
    "course_machine_learning =  coursera_merged[coursera_merged['course_id'].str.contains('machine-learning')]\n"
   ]
  },
  {
   "cell_type": "code",
   "execution_count": 51,
   "metadata": {},
   "outputs": [],
   "source": [
    "course_neural_networks_deep_learning = coursera_merged[coursera_merged['course_id'].str.contains('deep-learning')]\n"
   ]
  },
  {
   "cell_type": "code",
   "execution_count": 52,
   "metadata": {},
   "outputs": [],
   "source": [
    "course_technical_support_fundamentals = coursera_merged[coursera_merged['course_id'].str.contains('technical-support')]\n"
   ]
  },
  {
   "cell_type": "code",
   "execution_count": 53,
   "metadata": {},
   "outputs": [],
   "source": [
    "course_learning_how_to_learn = coursera_merged[coursera_merged['course_id'].str.contains('how-to-learn')]\n"
   ]
  },
  {
   "cell_type": "code",
   "execution_count": 54,
   "metadata": {},
   "outputs": [
    {
     "data": {
      "image/png": "[encoded data removed]",
      "text/plain": [
       "<Figure size 640x480 with 1 Axes>"
      ]
     },
     "metadata": {},
     "output_type": "display_data"
    }
   ],
   "source": [
    "sns.countplot(x=course_python.rating,hue = course_python.year, palette='bright')\n",
    "plt.show()"
   ]
  },
  {
   "cell_type": "code",
   "execution_count": 55,
   "metadata": {},
   "outputs": [
    {
     "data": {
      "image/png": "[encoded data removed]",
      "text/plain": [
       "<Figure size 640x480 with 1 Axes>"
      ]
     },
     "metadata": {},
     "output_type": "display_data"
    }
   ],
   "source": [
    "sns.countplot(x=course_machine_learning.rating,hue = course_machine_learning.year, palette='bright')\n",
    "plt.show()"
   ]
  },
  {
   "cell_type": "code",
   "execution_count": 56,
   "metadata": {},
   "outputs": [
    {
     "data": {
      "image/png": "[encoded data removed]",
      "text/plain": [
       "<Figure size 640x480 with 1 Axes>"
      ]
     },
     "metadata": {},
     "output_type": "display_data"
    }
   ],
   "source": [
    "sns.countplot(x=course_neural_networks_deep_learning.rating,hue = course_neural_networks_deep_learning.year, palette='bright')\n",
    "plt.show()"
   ]
  },
  {
   "cell_type": "code",
   "execution_count": 57,
   "metadata": {},
   "outputs": [
    {
     "data": {
      "image/png": "[encoded data removed]",
      "text/plain": [
       "<Figure size 640x480 with 1 Axes>"
      ]
     },
     "metadata": {},
     "output_type": "display_data"
    }
   ],
   "source": [
    "sns.countplot(x=course_technical_support_fundamentals.rating,hue = course_technical_support_fundamentals.year, palette='bright')\n",
    "plt.show()"
   ]
  },
  {
   "cell_type": "code",
   "execution_count": 58,
   "metadata": {},
   "outputs": [
    {
     "data": {
      "image/png": "[encoded data removed]",
      "text/plain": [
       "<Figure size 640x480 with 1 Axes>"
      ]
     },
     "metadata": {},
     "output_type": "display_data"
    }
   ],
   "source": [
    "sns.countplot(x=course_learning_how_to_learn.rating,hue = course_learning_how_to_learn.year, palette='bright')\n",
    "plt.show()"
   ]
  },
  {
   "cell_type": "code",
   "execution_count": 60,
   "metadata": {},
   "outputs": [],
   "source": [
    "coursera_merged = coursera_merged.to_csv('coursera_final.csv')"
   ]
  },
  {
   "cell_type": "code",
   "execution_count": 62,
   "metadata": {},
   "outputs": [],
   "source": []
  },
  {
   "cell_type": "code",
   "execution_count": null,
   "metadata": {},
   "outputs": [],
   "source": []
  }
 ],
 "metadata": {
  "kernelspec": {
   "display_name": ".venv",
   "language": "python",
   "name": "python3"
  },
  "language_info": {
   "codemirror_mode": {
    "name": "ipython",
    "version": 3
   },
   "file_extension": ".py",
   "mimetype": "text/x-python",
   "name": "python",
   "nbconvert_exporter": "python",
   "pygments_lexer": "ipython3",
   "version": "3.10.9 (main, Dec 20 2022, 00:00:00) [GCC 12.2.1 20221121 (Red Hat 12.2.1-4)]"
  },
  "orig_nbformat": 4,
  "vscode": {
   "interpreter": {
    "hash": "37ff3ddb3d3215fe0288494044b5762155cd6b6a94ccf5d3ec253e751fe573c3"
   }
  }
 },
 "nbformat": 4,
 "nbformat_minor": 2
}
